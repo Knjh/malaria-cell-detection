{
 "cells": [
  {
   "cell_type": "code",
   "execution_count": 1,
   "id": "3d931d54",
   "metadata": {},
   "outputs": [
    {
     "name": "stderr",
     "output_type": "stream",
     "text": [
      "2024-01-02 09:13:51.307895: I tensorflow/core/util/port.cc:113] oneDNN custom operations are on. You may see slightly different numerical results due to floating-point round-off errors from different computation orders. To turn them off, set the environment variable `TF_ENABLE_ONEDNN_OPTS=0`.\n",
      "2024-01-02 09:13:51.313897: I external/local_tsl/tsl/cuda/cudart_stub.cc:31] Could not find cuda drivers on your machine, GPU will not be used.\n",
      "2024-01-02 09:13:51.382874: E external/local_xla/xla/stream_executor/cuda/cuda_dnn.cc:9261] Unable to register cuDNN factory: Attempting to register factory for plugin cuDNN when one has already been registered\n",
      "2024-01-02 09:13:51.382924: E external/local_xla/xla/stream_executor/cuda/cuda_fft.cc:607] Unable to register cuFFT factory: Attempting to register factory for plugin cuFFT when one has already been registered\n",
      "2024-01-02 09:13:51.384501: E external/local_xla/xla/stream_executor/cuda/cuda_blas.cc:1515] Unable to register cuBLAS factory: Attempting to register factory for plugin cuBLAS when one has already been registered\n",
      "2024-01-02 09:13:51.394774: I external/local_tsl/tsl/cuda/cudart_stub.cc:31] Could not find cuda drivers on your machine, GPU will not be used.\n",
      "2024-01-02 09:13:51.395356: I tensorflow/core/platform/cpu_feature_guard.cc:182] This TensorFlow binary is optimized to use available CPU instructions in performance-critical operations.\n",
      "To enable the following instructions: AVX2 AVX512F AVX512_VNNI FMA, in other operations, rebuild TensorFlow with the appropriate compiler flags.\n",
      "2024-01-02 09:13:52.961555: W tensorflow/compiler/tf2tensorrt/utils/py_utils.cc:38] TF-TRT Warning: Could not find TensorRT\n"
     ]
    }
   ],
   "source": [
    "import numpy as np\n",
    "import pandas as pd\n",
    "import matplotlib.pyplot as plt\n",
    "\n",
    "import os\n",
    "import cv2 as cv\n",
    "\n",
    "from PIL import Image\n",
    "from tensorflow import keras\n",
    "import tensorflow.keras.layers as k\n",
    "\n",
    "from tensorflow import keras\n",
    "\n",
    "from tqdm.notebook import tqdm\n",
    "\n",
    "import warnings\n",
    "warnings.filterwarnings(\"ignore\")"
   ]
  },
  {
   "cell_type": "code",
   "execution_count": 2,
   "id": "1317a87e",
   "metadata": {},
   "outputs": [],
   "source": [
    "image_dir = 'cell_images/'\n",
    "dataset = []\n",
    "label   = []\n",
    "size    = 64"
   ]
  },
  {
   "cell_type": "code",
   "execution_count": 3,
   "id": "6b71f6ae",
   "metadata": {},
   "outputs": [
    {
     "data": {
      "application/vnd.jupyter.widget-view+json": {
       "model_id": "b811364fd25f431f913955c3bc189d91",
       "version_major": 2,
       "version_minor": 0
      },
      "text/plain": [
       "  0%|          | 0/13779 [00:00<?, ?it/s]"
      ]
     },
     "metadata": {},
     "output_type": "display_data"
    }
   ],
   "source": [
    "parasitized_img = os.listdir(image_dir+\"Parasitized/\")\n",
    "for i, img_name in enumerate(tqdm(parasitized_img)):\n",
    "    if(img_name.split('.')[1] == 'png'):\n",
    "        image = cv.imread(image_dir+\"Parasitized/\"+img_name)\n",
    "        image = Image.fromarray(image,'RGB')\n",
    "        image = image.resize((size,size))\n",
    "        image = dataset.append(np.array(image))\n",
    "        \n",
    "        label.append(0)"
   ]
  },
  {
   "cell_type": "code",
   "execution_count": 4,
   "id": "be9f2e99",
   "metadata": {},
   "outputs": [
    {
     "data": {
      "application/vnd.jupyter.widget-view+json": {
       "model_id": "c0c0f855810e47f28b18501c138a3117",
       "version_major": 2,
       "version_minor": 0
      },
      "text/plain": [
       "  0%|          | 0/13779 [00:00<?, ?it/s]"
      ]
     },
     "metadata": {},
     "output_type": "display_data"
    }
   ],
   "source": [
    "uninfected_img = os.listdir(image_dir+\"Uninfected/\")\n",
    "for i, img_name in enumerate(tqdm(uninfected_img)):\n",
    "    if(img_name.split('.')[1] == 'png'):\n",
    "        image = cv.imread(image_dir+\"Uninfected/\"+img_name)\n",
    "        image = Image.fromarray(image, 'RGB')\n",
    "        image = image.resize((size,size))\n",
    "        \n",
    "        image = dataset.append(np.array(image))\n",
    "        label.append(1)"
   ]
  },
  {
   "cell_type": "code",
   "execution_count": 5,
   "id": "30fbc9d2",
   "metadata": {},
   "outputs": [],
   "source": [
    "from sklearn.model_selection import train_test_split\n",
    "from keras.utils import to_categorical\n",
    "x_train,x_test,y_train,y_test = train_test_split(dataset, to_categorical(np.array(label)), test_size = 0.2, random_state = 42)"
   ]
  },
  {
   "cell_type": "code",
   "execution_count": 6,
   "id": "4d61e8df",
   "metadata": {},
   "outputs": [
    {
     "data": {
      "text/plain": [
       "((64, 64, 3), (2,))"
      ]
     },
     "execution_count": 6,
     "metadata": {},
     "output_type": "execute_result"
    }
   ],
   "source": [
    "x_train[0].shape, y_train[0].shape"
   ]
  },
  {
   "cell_type": "code",
   "execution_count": 8,
   "id": "260c84e7",
   "metadata": {},
   "outputs": [],
   "source": [
    "from tensorflow.keras.models import Sequential\n",
    "from tensorflow.keras.layers import Dense, Conv2D, MaxPool2D, Flatten"
   ]
  },
  {
   "cell_type": "code",
   "execution_count": 14,
   "id": "27ff85ad",
   "metadata": {},
   "outputs": [],
   "source": [
    "model = Sequential()\n",
    "\n",
    "model.add(Conv2D(filters = 32, kernel_size = (4,4), input_shape = (64,64,3), activation = 'relu'))\n",
    "model.add(MaxPool2D(pool_size = (2,2)))\n",
    "\n",
    "model.add(Conv2D(filters = 32, kernel_size = (4,4), input_shape = (64,64,3), activation = 'relu'))\n",
    "model.add(MaxPool2D(pool_size = (2,2)))\n",
    "\n",
    "model.add(Flatten())\n",
    "\n",
    "model.add(Dense(512, activation = 'relu'))\n",
    "model.add(Dense(256, activation = 'relu'))\n",
    "\n",
    "model.add(Dense(2, activation = 'softmax'))\n",
    "\n",
    "\n",
    "model.compile(loss='categorical_crossentropy',\n",
    "              optimizer='rmsprop',\n",
    "              metrics=['accuracy'])"
   ]
  },
  {
   "cell_type": "code",
   "execution_count": 19,
   "id": "0ffd8868",
   "metadata": {},
   "outputs": [],
   "source": [
    "model = Sequential()\n",
    "\n",
    "model.add(Conv2D(filters = 64, kernel_size = (4,4), input_shape = (64,64,3), activation = 'relu'))\n",
    "model.add(MaxPool2D(pool_size = (2,2)))\n",
    "\n",
    "model.add(Conv2D(filters = 64, kernel_size = (4,4), input_shape = (64,64,3), activation = 'relu'))\n",
    "model.add(MaxPool2D(pool_size = (2,2)))\n",
    "\n",
    "model.add(Flatten())\n",
    "\n",
    "model.add(Dense(512, activation = 'relu'))\n",
    "model.add(Dense(256, activation = 'relu'))\n",
    "\n",
    "model.add(Dense(2, activation = 'softmax'))\n",
    "\n",
    "\n",
    "model.compile(loss='categorical_crossentropy',\n",
    "              optimizer='rmsprop',\n",
    "              metrics=['accuracy'])"
   ]
  },
  {
   "cell_type": "code",
   "execution_count": 20,
   "id": "4663771b",
   "metadata": {},
   "outputs": [
    {
     "name": "stdout",
     "output_type": "stream",
     "text": [
      "Model: \"sequential_2\"\n",
      "_________________________________________________________________\n",
      " Layer (type)                Output Shape              Param #   \n",
      "=================================================================\n",
      " conv2d_4 (Conv2D)           (None, 61, 61, 64)        3136      \n",
      "                                                                 \n",
      " max_pooling2d_4 (MaxPoolin  (None, 30, 30, 64)        0         \n",
      " g2D)                                                            \n",
      "                                                                 \n",
      " conv2d_5 (Conv2D)           (None, 27, 27, 64)        65600     \n",
      "                                                                 \n",
      " max_pooling2d_5 (MaxPoolin  (None, 13, 13, 64)        0         \n",
      " g2D)                                                            \n",
      "                                                                 \n",
      " flatten_2 (Flatten)         (None, 10816)             0         \n",
      "                                                                 \n",
      " dense_5 (Dense)             (None, 512)               5538304   \n",
      "                                                                 \n",
      " dense_6 (Dense)             (None, 256)               131328    \n",
      "                                                                 \n",
      " dense_7 (Dense)             (None, 2)                 514       \n",
      "                                                                 \n",
      "=================================================================\n",
      "Total params: 5738882 (21.89 MB)\n",
      "Trainable params: 5738882 (21.89 MB)\n",
      "Non-trainable params: 0 (0.00 Byte)\n",
      "_________________________________________________________________\n"
     ]
    }
   ],
   "source": [
    "model.summary()"
   ]
  },
  {
   "cell_type": "code",
   "execution_count": 21,
   "id": "72e42d3b",
   "metadata": {},
   "outputs": [
    {
     "name": "stdout",
     "output_type": "stream",
     "text": [
      "Epoch 1/15\n",
      "311/311 [==============================] - 88s 280ms/step - loss: 11.8291 - accuracy: 0.5658 - val_loss: 0.6827 - val_accuracy: 0.5773\n",
      "Epoch 2/15\n",
      "311/311 [==============================] - 88s 282ms/step - loss: 0.6839 - accuracy: 0.6057 - val_loss: 0.6753 - val_accuracy: 0.6027\n",
      "Epoch 3/15\n",
      "311/311 [==============================] - 87s 281ms/step - loss: 0.6900 - accuracy: 0.6357 - val_loss: 0.6668 - val_accuracy: 0.6367\n",
      "Epoch 4/15\n",
      "311/311 [==============================] - 88s 281ms/step - loss: 0.6173 - accuracy: 0.6804 - val_loss: 0.4452 - val_accuracy: 0.8136\n",
      "Epoch 5/15\n",
      "311/311 [==============================] - 87s 281ms/step - loss: 0.3236 - accuracy: 0.9139 - val_loss: 0.2043 - val_accuracy: 0.9333\n",
      "Epoch 6/15\n",
      "311/311 [==============================] - 88s 283ms/step - loss: 0.1518 - accuracy: 0.9522 - val_loss: 0.2388 - val_accuracy: 0.9311\n",
      "Epoch 7/15\n",
      "311/311 [==============================] - 87s 278ms/step - loss: 0.1155 - accuracy: 0.9667 - val_loss: 0.2897 - val_accuracy: 0.9261\n",
      "Epoch 8/15\n",
      "311/311 [==============================] - 88s 284ms/step - loss: 0.1265 - accuracy: 0.9702 - val_loss: 0.3243 - val_accuracy: 0.9293\n",
      "Epoch 9/15\n",
      "311/311 [==============================] - 87s 279ms/step - loss: 0.0758 - accuracy: 0.9790 - val_loss: 0.4319 - val_accuracy: 0.9220\n",
      "Epoch 10/15\n",
      "311/311 [==============================] - 87s 280ms/step - loss: 0.0591 - accuracy: 0.9834 - val_loss: 0.3949 - val_accuracy: 0.9315\n",
      "Epoch 11/15\n",
      "311/311 [==============================] - 87s 279ms/step - loss: 0.0621 - accuracy: 0.9853 - val_loss: 0.4690 - val_accuracy: 0.9270\n",
      "Epoch 12/15\n",
      "311/311 [==============================] - 92s 295ms/step - loss: 0.0462 - accuracy: 0.9873 - val_loss: 0.5005 - val_accuracy: 0.9306\n",
      "Epoch 13/15\n",
      "311/311 [==============================] - 89s 288ms/step - loss: 0.0422 - accuracy: 0.9894 - val_loss: 0.5089 - val_accuracy: 0.9351\n",
      "Epoch 14/15\n",
      "311/311 [==============================] - 89s 286ms/step - loss: 0.0416 - accuracy: 0.9894 - val_loss: 0.6249 - val_accuracy: 0.9297\n",
      "Epoch 15/15\n",
      "311/311 [==============================] - 91s 291ms/step - loss: 0.0337 - accuracy: 0.9913 - val_loss: 0.6287 - val_accuracy: 0.9274\n"
     ]
    }
   ],
   "source": [
    "history = model.fit(np.array(x_train), y_train, batch_size = 64, verbose = 1, epochs = 15, validation_split = 0.1, shuffle = False)"
   ]
  },
  {
   "cell_type": "code",
   "execution_count": null,
   "id": "187983fc",
   "metadata": {},
   "outputs": [],
   "source": []
  },
  {
   "cell_type": "code",
   "execution_count": 22,
   "id": "5f1533e5",
   "metadata": {},
   "outputs": [],
   "source": [
    "losses = pd.DataFrame(model.history.history)"
   ]
  },
  {
   "cell_type": "code",
   "execution_count": 23,
   "id": "74bd89da",
   "metadata": {},
   "outputs": [
    {
     "data": {
      "text/plain": [
       "<Axes: >"
      ]
     },
     "execution_count": 23,
     "metadata": {},
     "output_type": "execute_result"
    },
    {
     "data": {
      "image/png": "[encoded data removed]",
      "text/plain": [
       "<Figure size 640x480 with 1 Axes>"
      ]
     },
     "metadata": {},
     "output_type": "display_data"
    }
   ],
   "source": [
    "losses[['accuracy','val_accuracy']].plot()"
   ]
  },
  {
   "cell_type": "code",
   "execution_count": null,
   "id": "d7959f9c",
   "metadata": {},
   "outputs": [],
   "source": []
  }
 ],
 "metadata": {
  "kernelspec": {
   "display_name": "Python 3 (ipykernel)",
   "language": "python",
   "name": "python3"
  },
  "language_info": {
   "codemirror_mode": {
    "name": "ipython",
    "version": 3
   },
   "file_extension": ".py",
   "mimetype": "text/x-python",
   "name": "python",
   "nbconvert_exporter": "python",
   "pygments_lexer": "ipython3",
   "version": "3.11.5"
  }
 },
 "nbformat": 4,
 "nbformat_minor": 5
}
